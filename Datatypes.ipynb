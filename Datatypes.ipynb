{
 "cells": [
  {
   "cell_type": "code",
   "execution_count": null,
   "id": "5443cd2c-223f-4ef1-b072-7dfa88acdcf1",
   "metadata": {},
   "outputs": [],
   "source": []
  },
  {
   "cell_type": "code",
   "execution_count": 7,
   "id": "569978c1-12d4-421e-bdfb-866ac7f44f26",
   "metadata": {},
   "outputs": [],
   "source": [
    "x=5;"
   ]
  },
  {
   "cell_type": "code",
   "execution_count": 8,
   "id": "ead6e2bf-98e0-4fbe-8278-a4516d054aac",
   "metadata": {},
   "outputs": [
    {
     "name": "stdout",
     "output_type": "stream",
     "text": [
      "5\n"
     ]
    }
   ],
   "source": [
    "print(x)"
   ]
  },
  {
   "cell_type": "code",
   "execution_count": 9,
   "id": "7aa8f806-a3f5-4544-9ab1-23e5d9977923",
   "metadata": {},
   "outputs": [],
   "source": [
    "y=10;"
   ]
  },
  {
   "cell_type": "code",
   "execution_count": 10,
   "id": "9cbf19c3-f812-4c29-a6f0-9d0e809528cf",
   "metadata": {},
   "outputs": [
    {
     "name": "stdout",
     "output_type": "stream",
     "text": [
      "15\n"
     ]
    }
   ],
   "source": [
    "print(x+y)"
   ]
  },
  {
   "cell_type": "code",
   "execution_count": 4,
   "id": "c1172ad5-c19d-486d-9996-be7e40b38a15",
   "metadata": {},
   "outputs": [],
   "source": [
    "name ='Pri'\n"
   ]
  },
  {
   "cell_type": "code",
   "execution_count": 3,
   "id": "e458ff8c-ea44-49af-aa84-ac6a7d57b5da",
   "metadata": {},
   "outputs": [
    {
     "data": {
      "text/plain": [
       "type"
      ]
     },
     "execution_count": 3,
     "metadata": {},
     "output_type": "execute_result"
    }
   ],
   "source": [
    "type"
   ]
  },
  {
   "cell_type": "code",
   "execution_count": 11,
   "id": "5a16e97b-f304-4327-98bc-e0893371dce1",
   "metadata": {},
   "outputs": [
    {
     "data": {
      "text/plain": [
       "'Pri'"
      ]
     },
     "execution_count": 11,
     "metadata": {},
     "output_type": "execute_result"
    }
   ],
   "source": [
    "str(name)\n"
   ]
  },
  {
   "cell_type": "code",
   "execution_count": null,
   "id": "f17aeec0-589f-4863-bb77-acae8d947fc0",
   "metadata": {},
   "outputs": [],
   "source": []
  }
 ],
 "metadata": {
  "kernelspec": {
   "display_name": "Python 3",
   "language": "python",
   "name": "python3"
  },
  "language_info": {
   "codemirror_mode": {
    "name": "ipython",
    "version": 3
   },
   "file_extension": ".py",
   "mimetype": "text/x-python",
   "name": "python",
   "nbconvert_exporter": "python",
   "pygments_lexer": "ipython3",
   "version": "3.9.2"
  }
 },
 "nbformat": 4,
 "nbformat_minor": 5
}
