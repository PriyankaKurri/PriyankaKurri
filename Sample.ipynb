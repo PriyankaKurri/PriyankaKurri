{
 "cells": [
  {
   "cell_type": "code",
   "execution_count": 2,
   "id": "c5e05a59-dfc8-47a7-8916-b22e1e6b0d68",
   "metadata": {},
   "outputs": [
    {
     "name": "stdout",
     "output_type": "stream",
     "text": [
      "my name is priyanka\n"
     ]
    }
   ],
   "source": [
    "print(\"my name is priyanka\")"
   ]
  },
  {
   "cell_type": "code",
   "execution_count": null,
   "id": "0d632987-7f9f-4230-a699-e0e5fd1c94d3",
   "metadata": {},
   "outputs": [],
   "source": []
  }
 ],
 "metadata": {
  "kernelspec": {
   "display_name": "Python 3",
   "language": "python",
   "name": "python3"
  },
  "language_info": {
   "codemirror_mode": {
    "name": "ipython",
    "version": 3
   },
   "file_extension": ".py",
   "mimetype": "text/x-python",
   "name": "python",
   "nbconvert_exporter": "python",
   "pygments_lexer": "ipython3",
   "version": "3.9.2"
  }
 },
 "nbformat": 4,
 "nbformat_minor": 5
}
